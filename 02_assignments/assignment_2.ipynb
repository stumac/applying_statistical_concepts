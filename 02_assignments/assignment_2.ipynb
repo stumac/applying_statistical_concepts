{
 "cells": [
  {
   "cell_type": "markdown",
   "id": "7b0bcac6-5086-4f4e-928a-570a9ff7ae58",
   "metadata": {},
   "source": [
    "# Assignment 2"
   ]
  },
  {
   "cell_type": "markdown",
   "id": "5fce0350-2a17-4e93-8d4c-0b8748fdfc32",
   "metadata": {},
   "source": [
    "As before, if a question can be answered with 'yes/no', or a numeric value, you may simply state as much. If you incorporate code from the internet (which is not required and generally not advisable), please cite the source within your code (providing a URL is sufficient).\n",
    "\n",
    "We will go through comparable code and concepts in the live learning sessions. If you run into trouble, start by using the help `help()` function in Python, to get information about the datasets and function in question. The internet is also a great resource when coding (though note that no outside searches are required by the assignment!). If you do incorporate code from the internet, please cite the source within your code (providing a URL is sufficient).\n",
    "\n",
    "Please bring questions that you cannot work out on your own to office hours, work periods or share with your peers on Slack. We will work with you through the issue.\n",
    "\n",
    "If you like, you may collaborate with others in the cohort. If you choose to do so, please indicate with whom you have worked with in your pull request by tagging their GitHub username. Separate submissions are required."
   ]
  },
  {
   "cell_type": "code",
   "execution_count": 1,
   "id": "ffd43063",
   "metadata": {},
   "outputs": [],
   "source": [
    "import numpy as np\n",
    "import pandas as pd\n",
    "import matplotlib.pyplot as plt\n",
    "import statsmodels.api as sm\n",
    "\n",
    "# Import specific objects\n",
    "from sklearn.preprocessing import StandardScaler\n",
    "from sklearn.neighbors import KNeighborsClassifier\n",
    "from sklearn.model_selection import train_test_split\n",
    "from ISLP import confusion_table\n",
    "from ISLP import load_data"
   ]
  },
  {
   "cell_type": "markdown",
   "id": "4a59e07e-6abb-4f6c-9c1b-760b11626ce7",
   "metadata": {},
   "source": [
    "### Question 1: Classification using KNN\n",
    "\n",
    "We'll now use the `Caravan` dataset from the `ISLP` package. (You may use `Caravan.describe()` to review details of the dataset.) In this dataset, the response variable of interest is `Purchase`, which indicates if a given customer purchased a caravan insurance policy. We will simultaneously use all other variables in the dataset to predict the response variable."
   ]
  },
  {
   "cell_type": "code",
   "execution_count": 2,
   "id": "6449268e-0e33-4976-83cf-5ada4b29597f",
   "metadata": {},
   "outputs": [
    {
     "name": "stdout",
     "output_type": "stream",
     "text": [
      "      MOSTYPE  MAANTHUI  MGEMOMV  MGEMLEEF  MOSHOOFD  MGODRK  MGODPR  MGODOV  \\\n",
      "0          33         1        3         2         8       0       5       1   \n",
      "1          37         1        2         2         8       1       4       1   \n",
      "2          37         1        2         2         8       0       4       2   \n",
      "3           9         1        3         3         3       2       3       2   \n",
      "4          40         1        4         2        10       1       4       1   \n",
      "...       ...       ...      ...       ...       ...     ...     ...     ...   \n",
      "5817       36         1        1         2         8       0       6       1   \n",
      "5818       35         1        4         4         8       1       4       1   \n",
      "5819       33         1        3         4         8       0       6       0   \n",
      "5820       34         1        3         2         8       0       7       0   \n",
      "5821       33         1        3         3         8       0       6       1   \n",
      "\n",
      "      MGODGE  MRELGE  ...  APERSONG  AGEZONG  AWAOREG  ABRAND  AZEILPL  \\\n",
      "0          3       7  ...         0        0        0       1        0   \n",
      "1          4       6  ...         0        0        0       1        0   \n",
      "2          4       3  ...         0        0        0       1        0   \n",
      "3          4       5  ...         0        0        0       1        0   \n",
      "4          4       7  ...         0        0        0       1        0   \n",
      "...      ...     ...  ...       ...      ...      ...     ...      ...   \n",
      "5817       2       1  ...         0        0        0       1        0   \n",
      "5818       4       6  ...         0        0        0       1        0   \n",
      "5819       3       5  ...         0        0        0       1        0   \n",
      "5820       2       7  ...         0        0        0       0        0   \n",
      "5821       2       7  ...         0        0        0       0        0   \n",
      "\n",
      "      APLEZIER  AFIETS  AINBOED  ABYSTAND  Purchase  \n",
      "0            0       0        0         0        No  \n",
      "1            0       0        0         0        No  \n",
      "2            0       0        0         0        No  \n",
      "3            0       0        0         0        No  \n",
      "4            0       0        0         0        No  \n",
      "...        ...     ...      ...       ...       ...  \n",
      "5817         0       0        0         0        No  \n",
      "5818         0       0        0         0        No  \n",
      "5819         0       0        0         0       Yes  \n",
      "5820         0       0        0         0        No  \n",
      "5821         0       0        0         0        No  \n",
      "\n",
      "[5822 rows x 86 columns]\n"
     ]
    }
   ],
   "source": [
    "# Load the \"Caravan\" dataset using the \"load_data\" function from the ISLP package\n",
    "Caravan = load_data('Caravan')\n",
    "#val = Caravan['Purchase'].describe()\n",
    "#val['unique']\n",
    "print(Caravan)\n",
    "# desc = Caravan.describe()\n",
    "# # print(desc.columns)\n",
    "# # Add your code here\n",
    "# Caravan.columns.difference(desc.columns)\n"
   ]
  },
  {
   "cell_type": "markdown",
   "id": "ad60779b-cba9-4972-aeeb-b89e65fda11c",
   "metadata": {},
   "source": [
    "Before fitting any model, it is essential to understand our data. Answer the following questions about the `Caravan` dataset (Hint: use `print` and `describe`):  \n",
    "_(i)_ How many observations (rows) does the dataset contain?    \n",
    "_(ii)_ How many variables (columns) does the dataset contain?    \n",
    "_(iii)_ What 'variable' type is the response variable `Purchase` (e.g., 'character', 'factor', 'numeric', etc)? What are the 'levels' of the variable?    \n",
    "_(iv)_ How many predictor variables do we have (Hint: all variables other than `Purchase`)?  "
   ]
  },
  {
   "cell_type": "code",
   "execution_count": 3,
   "id": "5a3a8ec5-98e4-431d-967b-ae1482127de4",
   "metadata": {},
   "outputs": [
    {
     "name": "stdout",
     "output_type": "stream",
     "text": [
      "observations (rows) in caravan data model: 5822\n",
      "variables (columns) in caravan data model: 86\n",
      "variable type: Factor (categorical), levels: 2\n",
      "predictor variables (columns not named 'Purchase') in caravan data model: 85\n"
     ]
    }
   ],
   "source": [
    "# (i) How many observations (rows) does the dataset contain? (todo: is this right though?)\n",
    "print(f\"observations (rows) in caravan data model: {Caravan.shape[0]}\")\n",
    "# (ii) How many variables (columns) does the dataset contain?  \n",
    "print(f\"variables (columns) in caravan data model: {Caravan.shape[1]}\")\n",
    "# (iii) What 'variable' type is the response variable `Purchase` (e.g., 'character', 'factor', 'numeric', etc)? What are the 'levels' of the variable?\n",
    "print(f\"variable type: Factor (categorical), levels: {Caravan['Purchase'].describe()['unique']}\")\n",
    "# (iv) How many predictor variables do we have (Hint: all variables other than `Purchase`)?  \n",
    "print(f\"predictor variables (columns not named 'Purchase') in caravan data model: {len(Caravan.describe().columns)}\")"
   ]
  },
  {
   "cell_type": "markdown",
   "id": "5f5d31d9",
   "metadata": {},
   "source": [
    "Next, we must preform 'pre-processing' or 'data munging', to prepare our data for classification/prediction. For KNN, there are three essential steps. A first essential step is to 'standardize' the predictor variables. We can achieve this using the `scaler` method, provided as follows:"
   ]
  },
  {
   "cell_type": "code",
   "execution_count": 4,
   "id": "4c2901b1-82ce-4729-88d9-7d9985336221",
   "metadata": {},
   "outputs": [
    {
     "name": "stdout",
     "output_type": "stream",
     "text": [
      "    MOSTYPE  MAANTHUI   MGEMOMV  MGEMLEEF  MOSHOOFD    MGODRK    MGODPR  \\\n",
      "0  0.680906  -0.27258  0.406697 -1.216964  0.779405 -0.694311  0.217444   \n",
      "\n",
      "     MGODOV    MGODGE   MRELGE  ...   ALEVEN  APERSONG   AGEZONG  AWAOREG  \\\n",
      "0 -0.068711 -0.161816  0.42767  ... -0.20291 -0.073165 -0.081055 -0.05992   \n",
      "\n",
      "     ABRAND   AZEILPL  APLEZIER   AFIETS   AINBOED  ABYSTAND  \n",
      "0  0.764971 -0.022706  -0.07365 -0.15062 -0.087348 -0.118816  \n",
      "\n",
      "[1 rows x 85 columns]\n"
     ]
    }
   ],
   "source": [
    "# Select predictors (excluding the 86th column)\n",
    "predictors = Caravan.iloc[:, :-1]\n",
    "\n",
    "# Standardize the predictors\n",
    "scaler = StandardScaler()\n",
    "predictors_standardized = pd.DataFrame(scaler.fit_transform(predictors), columns=predictors.columns)\n",
    "\n",
    "# Display the head of the standardized predictors\n",
    "print(predictors_standardized.head(1)) # make this one to not take up as much room on my screen."
   ]
  },
  {
   "cell_type": "markdown",
   "id": "227b3eaa-698e-4190-97cd-098e0e3d532e",
   "metadata": {},
   "source": [
    "_(v)_ Why is it important to standardize the predictor variables?  \n",
    "_(vi)_ Why did we elect not to standard our response variable `Purchase`?  \n"
   ]
  },
  {
   "cell_type": "markdown",
   "id": "40a8c0f5",
   "metadata": {},
   "source": [
    "### (v) Why is it important to standarize the predictor variables?\n",
    "Certain variables are significantly larger than others. Variables on a large scale will have a much larger affect on the distance between the observations. These larger values can have an outsized influence on the KNN classification results. Standardizing them via scaling allows all variables to be on a comparable scale. So a a larger variable will still have an effect, but not an outsized one.\n",
    "\n",
    "### (vi) Why did we elect not to standard our response variable `Purchase`?\n",
    "That's the value we're trying to predict. We shouldn't be using Purchase at all in our data, hence we drop it."
   ]
  },
  {
   "cell_type": "markdown",
   "id": "28ffb22f",
   "metadata": {},
   "source": [
    "\n",
    "_(vii)_ A second essential step is to set a random seed. Do so below (Hint: use the `random.seed` function). Why is setting a seed important? Is the particular seed value important? Why or why not?"
   ]
  },
  {
   "cell_type": "code",
   "execution_count": 5,
   "id": "230fd782-cfe1-45e6-ad00-a67e6b04d024",
   "metadata": {},
   "outputs": [
    {
     "name": "stdout",
     "output_type": "stream",
     "text": [
      "\n",
      "While KNN's algorithm is running, there is the potential for multiple neighbors to be tied during a measurement. If this occurs, Scikit will randomly break the tie so it can continue. By setting\n",
      "the seed, we force scikit to use a consistent random number, making our results reproducible.\n",
      "      \n",
      "The seed value isn't particularly important. It only needs to stay constant across all runs for a good comparison.\n",
      "\n"
     ]
    }
   ],
   "source": [
    "# Add your code here\n",
    "# This affects the np.random method below. Using `train_test_split` requires the seed to be per method.\n",
    "np.random.seed(42)\n",
    "print(\"\"\"\n",
    "While KNN's algorithm is running, there is the potential for multiple neighbors to be tied during a measurement. If this occurs, Scikit will randomly break the tie so it can continue. By setting\n",
    "the seed, we force scikit to use a consistent random number, making our results reproducible.\n",
    "      \n",
    "The seed value isn't particularly important. It only needs to stay constant across all runs for a good comparison.\n",
    "\"\"\")"
   ]
  },
  {
   "cell_type": "markdown",
   "id": "fe4862c6-ed52-402f-b3f0-fead91646033",
   "metadata": {},
   "source": [
    "_(viii)_ A third essential step is to split our standardized data into separate training and testing sets. We will split into 75% training and 25% testing. The provided code randomly partitions our data, and creates linked training sets for the predictors and response variables. Extend the code to create a non-overlapping test set for the predictors and response variables."
   ]
  },
  {
   "cell_type": "code",
   "execution_count": 6,
   "id": "cbe9f219-571b-476b-9f5b-b47431c803b1",
   "metadata": {},
   "outputs": [],
   "source": [
    "# Create a random vector of True and False values\n",
    "split = np.random.choice(\n",
    "    [True, False], size=len(predictors_standardized), replace=True, p=[0.75, 0.25]\n",
    ")\n",
    "# Define the training set for X (predictors)\n",
    "training_X = predictors_standardized[split]\n",
    "\n",
    "# Define the training set for Y (response)\n",
    "training_Y = Caravan.loc[split, \"Purchase\"]\n",
    "\n",
    "# Define the testing set for X (predictors)\n",
    "testing_X = predictors_standardized[~split]\n",
    "\n",
    "# Define the testing set for Y (response)\n",
    "testing_Y = Caravan.loc[~split, \"Purchase\"]\n",
    "\n",
    "# So this is how I'd split the data set usually. I know the use of np above works,\n",
    "# but I'm not sure how I would \"extend\" the code. It already looks non overlapping to\n",
    "# me. Regardless, I'll use the version shown below. It's a bit clearer and it's how the\n",
    "# ISLP textbook shows to do it. It generates the same values and the KNN scores equivalent.\n",
    "\n",
    "X_train, X_test, Y_train, Y_test = train_test_split(\n",
    "    predictors_standardized, Caravan.Purchase, test_size=0.25, random_state=42\n",
    ")"
   ]
  },
  {
   "cell_type": "markdown",
   "id": "58f16dbc-0be6-4cc8-b2c4-edab7042c702",
   "metadata": {},
   "source": [
    "_(ix)_ We are finally set to fit the KNN model. In Python, we can use the `KNeighborsClassifier()` function. Fit the KNN with k=1. (You may review arguments to knn by typing `help(knn.fit)`). "
   ]
  },
  {
   "cell_type": "code",
   "execution_count": 7,
   "id": "e6a117de-279b-4320-b64e-4051ba2887d2",
   "metadata": {},
   "outputs": [
    {
     "data": {
      "text/plain": [
       "0.8846153846153846"
      ]
     },
     "execution_count": 7,
     "metadata": {},
     "output_type": "execute_result"
    }
   ],
   "source": [
    "# Add your code here\n",
    "knn = KNeighborsClassifier(n_neighbors=1)\n",
    "# knn.fit(training_X, training_Y)\n",
    "# knn.score(testing_X, testing_Y)\n",
    "knn.fit(X_train, Y_train)\n",
    "knn.score(X_test, Y_test)\n",
    "# confusion_table(knn_pred, testing_Y)"
   ]
  },
  {
   "cell_type": "markdown",
   "id": "eb33a32a-95d3-49db-bb1b-663360267b18",
   "metadata": {},
   "source": [
    "Using your fit model, answer the following questions:   \n",
    "_(x)_ What is the prediction accuracy? (Hint: use the `score` method, and compare your model to `testing_Y`)  \n",
    "_(xi)_ What is the predictor error ? (Hint: compute it from the accuracy)"
   ]
  },
  {
   "cell_type": "code",
   "execution_count": 8,
   "id": "74dbe6c4-1a4d-4f06-9e2e-597da03952ed",
   "metadata": {},
   "outputs": [
    {
     "name": "stdout",
     "output_type": "stream",
     "text": [
      "prediction accuracy rate: 88.46153846153845 %\n"
     ]
    }
   ],
   "source": [
    "# prediction accuracy rate\n",
    "print(f\"prediction accuracy rate: {knn.score(X_test, Y_test)*100} %\")"
   ]
  },
  {
   "cell_type": "code",
   "execution_count": 9,
   "id": "9384d3f0",
   "metadata": {},
   "outputs": [
    {
     "name": "stdout",
     "output_type": "stream",
     "text": [
      "prediction error rate: 11.538461538461538 %\n"
     ]
    }
   ],
   "source": [
    "# prediction error rate\n",
    "#print(f\"prediction error rate: {(1 - knn.score(X_test, Y_test)) * 100} %\")\n",
    "print(f\"prediction error rate: {np.mean(Y_test != knn.predict(X_test)) * 100} %\")\n",
    "# confusion_table(knn_pred, testing_Y)"
   ]
  },
  {
   "cell_type": "markdown",
   "id": "dce9342c-9dcd-4f6d-b437-6065417483db",
   "metadata": {},
   "source": [
    "_(xii)_ How does this prediction error/accuracy compare to what could be achieved via random guesses? To answer this, consider the percent of customers in the `Caravan` dataset who actually purchase insurance, computed below:"
   ]
  },
  {
   "cell_type": "code",
   "execution_count": 10,
   "id": "c89ade30-3465-4104-b300-61d78b319d3c",
   "metadata": {},
   "outputs": [
    {
     "name": "stdout",
     "output_type": "stream",
     "text": [
      "5.977327378907591\n",
      "\n",
      "      A random prediction would give, on average, a 50% accuracy/error rate. The model above is significantly more accurate.\n",
      "    \n"
     ]
    }
   ],
   "source": [
    "# Calculate the percentage of customers who purchase insurance\n",
    "percentage_purchase = (Caravan['Purchase'].eq('Yes').sum() / len(Caravan['Purchase'])) * 100\n",
    "\n",
    "print(percentage_purchase)\n",
    "print(\n",
    "    \"\"\"\n",
    "      A random prediction would give, on average, a 50% accuracy/error rate. The model above is significantly more accurate.\n",
    "    \"\"\"\n",
    ")"
   ]
  },
  {
   "cell_type": "markdown",
   "id": "a7e19b5e-ad65-47f8-a3ef-e0f68a75048e",
   "metadata": {},
   "source": [
    "_(xiii)_ Fit a second KNN model, with $K=3$. Does this model perform better (i.e., have higher accuracy, compared to a random guess)?"
   ]
  },
  {
   "cell_type": "code",
   "execution_count": 11,
   "id": "fedbe4f2",
   "metadata": {},
   "outputs": [
    {
     "name": "stdout",
     "output_type": "stream",
     "text": [
      "model with a K (nearest neighbors) of 3 has an accuracy score of 93.95604395604396 %. This is higher than our first model by nearly 2%, and is significantly better than a random guess.\n"
     ]
    }
   ],
   "source": [
    "# Add your code here\n",
    "knn2 = KNeighborsClassifier(n_neighbors=3)\n",
    "knn2.fit(X_test, Y_test)\n",
    "knn_pred2 = knn.predict(X_test)\n",
    "knn2_score = knn2.score(X_test, Y_test)\n",
    "\n",
    "print(f\"model with a K (nearest neighbors) of 3 has an accuracy score of {knn2_score * 100} %. This is higher than our first model by nearly 2%, and is significantly better than a random guess.\")"
   ]
  },
  {
   "cell_type": "markdown",
   "id": "93c5050f",
   "metadata": {},
   "source": [
    "# Criteria\n",
    "\n",
    "|Criteria            |Complete           |Incomplete          |\n",
    "|--------------------|---------------|--------------|\n",
    "|Classification using KNN|All steps are done correctly and the answers are correct.|At least one step is done incorrectly leading to a wrong answer.|"
   ]
  },
  {
   "cell_type": "markdown",
   "id": "bbf69b4d",
   "metadata": {},
   "source": [
    "## Submission Information\n",
    "\n",
    "🚨 **Please review our [Assignment Submission Guide](https://github.com/UofT-DSI/onboarding/blob/main/onboarding_documents/submissions.md)** 🚨 for detailed instructions on how to format, branch, and submit your work. Following these guidelines is crucial for your submissions to be evaluated correctly.\n",
    "\n",
    "### Submission Parameters:\n",
    "* Submission Due Date: `HH:MM AM/PM - DD/MM/YYYY`\n",
    "* The branch name for your repo should be: `assignment-2`\n",
    "* What to submit for this assignment:\n",
    "    * This Jupyter Notebook (assignment_2.ipynb) should be populated and should be the only change in your pull request.\n",
    "* What the pull request link should look like for this assignment: `https://github.com/<your_github_username>/applying_statistical_concepts/pull/<pr_id>`\n",
    "    * Open a private window in your browser. Copy and paste the link to your pull request into the address bar. Make sure you can see your pull request properly. This helps the technical facilitator and learning support staff review your submission easily.\n",
    "\n",
    "Checklist:\n",
    "- [ ] Created a branch with the correct naming convention.\n",
    "- [ ] Ensured that the repository is public.\n",
    "- [ ] Reviewed the PR description guidelines and adhered to them.\n",
    "- [ ] Verify that the link is accessible in a private browser window.\n",
    "\n",
    "If you encounter any difficulties or have questions, please don't hesitate to reach out to our team via our Slack at `#cohort-3-help`. Our Technical Facilitators and Learning Support staff are here to help you navigate any challenges.\n"
   ]
  }
 ],
 "metadata": {
  "kernelspec": {
   "display_name": "Python 3.10.4",
   "language": "python",
   "name": "python3"
  },
  "language_info": {
   "codemirror_mode": {
    "name": "ipython",
    "version": 3
   },
   "file_extension": ".py",
   "mimetype": "text/x-python",
   "name": "python",
   "nbconvert_exporter": "python",
   "pygments_lexer": "ipython3",
   "version": "3.9.19"
  },
  "vscode": {
   "interpreter": {
    "hash": "497a84dc8fec8cf8d24e7e87b6d954c9a18a327edc66feb9b9ea7e9e72cc5c7e"
   }
  }
 },
 "nbformat": 4,
 "nbformat_minor": 5
}
